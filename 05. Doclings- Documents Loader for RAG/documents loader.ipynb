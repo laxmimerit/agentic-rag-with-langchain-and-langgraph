{
 "cells": [
  {
   "cell_type": "markdown",
   "metadata": {},
   "source": [
    "# Doclings \n",
    "- 🗂️ Reads popular document formats (PDF, DOCX, PPTX, XLSX, Images, HTML, AsciiDoc & Markdown) and exports to HTML, Markdown and JSON (with embedded and referenced images)\n",
    "- 📑 Advanced PDF document understanding including page layout, reading order & table structures\n",
    "- 🧩 Unified, expressive DoclingDocument representation format\n",
    "- 🤖 Plug-and-play integrations incl. LangChain, LlamaIndex, Crew AI & Haystack for agentic AI\n",
    "- 🔍 OCR support for scanned PDFs\n",
    "- 💻 Simple and convenient CLI"
   ]
  },
  {
   "cell_type": "code",
   "execution_count": 38,
   "metadata": {},
   "outputs": [],
   "source": [
    "# https://github.com/DS4SD/docling\n",
    "# https://python.langchain.com/docs/integrations/document_loaders/docling/\n",
    "\n",
    "\n",
    "## Other libraries for document loading\n",
    "# mega-parse and markitdown\n",
    "# https://github.com/QuivrHQ/MegaParse\n",
    "# https://github.com/microsoft/markitdown\n"
   ]
  },
  {
   "cell_type": "code",
   "execution_count": null,
   "metadata": {},
   "outputs": [],
   "source": [
    "# !pip install langchain_docling"
   ]
  },
  {
   "cell_type": "code",
   "execution_count": 2,
   "metadata": {},
   "outputs": [
    {
     "name": "stderr",
     "output_type": "stream",
     "text": [
      "Could not load the custom kernel for multi-scale deformable attention: DLL load failed while importing MultiScaleDeformableAttention: The specified module could not be found.\n",
      "Could not load the custom kernel for multi-scale deformable attention: DLL load failed while importing MultiScaleDeformableAttention: The specified module could not be found.\n",
      "Could not load the custom kernel for multi-scale deformable attention: DLL load failed while importing MultiScaleDeformableAttention: The specified module could not be found.\n",
      "Could not load the custom kernel for multi-scale deformable attention: DLL load failed while importing MultiScaleDeformableAttention: The specified module could not be found.\n",
      "Could not load the custom kernel for multi-scale deformable attention: DLL load failed while importing MultiScaleDeformableAttention: The specified module could not be found.\n",
      "Could not load the custom kernel for multi-scale deformable attention: DLL load failed while importing MultiScaleDeformableAttention: The specified module could not be found.\n"
     ]
    }
   ],
   "source": [
    "from docling.document_converter import DocumentConverter\n",
    "import os\n",
    "from pathlib import Path\n",
    "\n",
    "# source = \"https://arxiv.org/pdf/2408.09869\"  # document per local path or URL\n",
    "source = \"llm_paper.pdf\"\n",
    "converter = DocumentConverter()\n",
    "result = converter.convert(source)\n",
    "output = result.document.export_to_markdown()  # output: \"## Docling Technical Report[...]\""
   ]
  },
  {
   "cell_type": "code",
   "execution_count": 5,
   "metadata": {},
   "outputs": [],
   "source": [
    "# output = result.document.export_to_markdown()  # output: \"## Docling Technical Report[...]\"\n",
    "# print(output)"
   ]
  },
  {
   "cell_type": "code",
   "execution_count": 13,
   "metadata": {},
   "outputs": [],
   "source": [
    "## langchain documents loader\n",
    "from langchain_docling import DoclingLoader\n",
    "from langchain_docling.loader import ExportType\n",
    "import os\n",
    "from pathlib import Path\n",
    "\n",
    "def get_markdown(source, target_dir):\n",
    "\n",
    "    doc_filename = Path(source).stem\n",
    "    os.makedirs(target_dir, exist_ok=True)\n",
    "\n",
    "    md_filename = os.path.join(target_dir, f\"{doc_filename}.md\")\n",
    "\n",
    "    loader = DoclingLoader(file_path=source, export_type=ExportType.MARKDOWN)\n",
    "    docs = loader.load()\n",
    "\n",
    "    with open(md_filename, \"w\") as f:\n",
    "        f.write(docs[0].page_content)\n",
    "        print(f\"File {md_filename} created\")\n",
    "\n",
    "    return md_filename\n",
    "\n"
   ]
  },
  {
   "cell_type": "code",
   "execution_count": 14,
   "metadata": {},
   "outputs": [
    {
     "name": "stderr",
     "output_type": "stream",
     "text": [
      "Could not load the custom kernel for multi-scale deformable attention: DLL load failed while importing MultiScaleDeformableAttention: The specified module could not be found.\n",
      "Could not load the custom kernel for multi-scale deformable attention: DLL load failed while importing MultiScaleDeformableAttention: The specified module could not be found.\n",
      "Could not load the custom kernel for multi-scale deformable attention: DLL load failed while importing MultiScaleDeformableAttention: The specified module could not be found.\n",
      "Could not load the custom kernel for multi-scale deformable attention: DLL load failed while importing MultiScaleDeformableAttention: The specified module could not be found.\n",
      "Could not load the custom kernel for multi-scale deformable attention: DLL load failed while importing MultiScaleDeformableAttention: The specified module could not be found.\n",
      "Could not load the custom kernel for multi-scale deformable attention: DLL load failed while importing MultiScaleDeformableAttention: The specified module could not be found.\n"
     ]
    },
    {
     "name": "stdout",
     "output_type": "stream",
     "text": [
      "File output\\llm_paper.md created\n"
     ]
    },
    {
     "data": {
      "text/plain": [
       "'output\\\\llm_paper.md'"
      ]
     },
     "execution_count": 14,
     "metadata": {},
     "output_type": "execute_result"
    }
   ],
   "source": [
    "source = \"llm_paper.pdf\"\n",
    "target_dir = \"output\"\n",
    "get_markdown(source, target_dir)"
   ]
  },
  {
   "cell_type": "code",
   "execution_count": 15,
   "metadata": {},
   "outputs": [
    {
     "name": "stdout",
     "output_type": "stream",
     "text": [
      "File output\\Downloadable-BS-Q3-24.md created\n"
     ]
    },
    {
     "data": {
      "text/plain": [
       "'output\\\\Downloadable-BS-Q3-24.md'"
      ]
     },
     "execution_count": 15,
     "metadata": {},
     "output_type": "execute_result"
    }
   ],
   "source": [
    "source = \"Downloadable-BS-Q3-24.xlsx\"\n",
    "target_dir = \"output\"\n",
    "get_markdown(source, target_dir)"
   ]
  },
  {
   "cell_type": "markdown",
   "metadata": {},
   "source": [
    "## Reading Entire Document Directory"
   ]
  },
  {
   "cell_type": "code",
   "execution_count": 16,
   "metadata": {},
   "outputs": [
    {
     "data": {
      "text/plain": [
       "'d:\\\\LLM\\\\Agentic RAG with LangChain and LangGraph\\\\05. Doclings- Documents Loader for RAG'"
      ]
     },
     "execution_count": 16,
     "metadata": {},
     "output_type": "execute_result"
    }
   ],
   "source": [
    "os.getcwd()"
   ]
  },
  {
   "cell_type": "code",
   "execution_count": 28,
   "metadata": {},
   "outputs": [
    {
     "name": "stdout",
     "output_type": "stream",
     "text": [
      "Processing file: ../00 Dataset/docs\\llm_paper.pdf ->> ../00 Dataset/markdown\\.\n"
     ]
    },
    {
     "name": "stderr",
     "output_type": "stream",
     "text": [
      "Could not load the custom kernel for multi-scale deformable attention: DLL load failed while importing MultiScaleDeformableAttention: The specified module could not be found.\n",
      "Could not load the custom kernel for multi-scale deformable attention: DLL load failed while importing MultiScaleDeformableAttention: The specified module could not be found.\n",
      "Could not load the custom kernel for multi-scale deformable attention: DLL load failed while importing MultiScaleDeformableAttention: The specified module could not be found.\n",
      "Could not load the custom kernel for multi-scale deformable attention: DLL load failed while importing MultiScaleDeformableAttention: The specified module could not be found.\n",
      "Could not load the custom kernel for multi-scale deformable attention: DLL load failed while importing MultiScaleDeformableAttention: The specified module could not be found.\n",
      "Could not load the custom kernel for multi-scale deformable attention: DLL load failed while importing MultiScaleDeformableAttention: The specified module could not be found.\n"
     ]
    },
    {
     "name": "stdout",
     "output_type": "stream",
     "text": [
      "File ../00 Dataset/markdown\\.\\llm_paper.md created\n",
      "File ../00 Dataset/markdown\\.\\llm_paper.md created\n",
      "Processing file: ../00 Dataset/docs\\amazon\\amazon-10-q-q3-2024.pdf ->> ../00 Dataset/markdown\\amazon\n"
     ]
    },
    {
     "name": "stderr",
     "output_type": "stream",
     "text": [
      "Could not load the custom kernel for multi-scale deformable attention: DLL load failed while importing MultiScaleDeformableAttention: The specified module could not be found.\n",
      "Could not load the custom kernel for multi-scale deformable attention: DLL load failed while importing MultiScaleDeformableAttention: The specified module could not be found.\n",
      "Could not load the custom kernel for multi-scale deformable attention: DLL load failed while importing MultiScaleDeformableAttention: The specified module could not be found.\n",
      "Could not load the custom kernel for multi-scale deformable attention: DLL load failed while importing MultiScaleDeformableAttention: The specified module could not be found.\n",
      "Could not load the custom kernel for multi-scale deformable attention: DLL load failed while importing MultiScaleDeformableAttention: The specified module could not be found.\n",
      "Could not load the custom kernel for multi-scale deformable attention: DLL load failed while importing MultiScaleDeformableAttention: The specified module could not be found.\n"
     ]
    },
    {
     "name": "stdout",
     "output_type": "stream",
     "text": [
      "File ../00 Dataset/markdown\\amazon\\amazon-10-q-q3-2024.md created\n",
      "File ../00 Dataset/markdown\\amazon\\amazon-10-q-q3-2024.md created\n",
      "Processing file: ../00 Dataset/docs\\facebook\\Downloadable-BS-Q3-24.xlsx ->> ../00 Dataset/markdown\\facebook\n",
      "File ../00 Dataset/markdown\\facebook\\Downloadable-BS-Q3-24.md created\n",
      "File ../00 Dataset/markdown\\facebook\\Downloadable-BS-Q3-24.md created\n",
      "Processing file: ../00 Dataset/docs\\facebook\\Downloadable-PL-Q3-24.xlsx ->> ../00 Dataset/markdown\\facebook\n",
      "File ../00 Dataset/markdown\\facebook\\Downloadable-PL-Q3-24.md created\n",
      "File ../00 Dataset/markdown\\facebook\\Downloadable-PL-Q3-24.md created\n",
      "Processing file: ../00 Dataset/docs\\facebook\\Earnings-Presentation-Q3-2024.pdf ->> ../00 Dataset/markdown\\facebook\n"
     ]
    },
    {
     "name": "stderr",
     "output_type": "stream",
     "text": [
      "Could not load the custom kernel for multi-scale deformable attention: DLL load failed while importing MultiScaleDeformableAttention: The specified module could not be found.\n",
      "Could not load the custom kernel for multi-scale deformable attention: DLL load failed while importing MultiScaleDeformableAttention: The specified module could not be found.\n",
      "Could not load the custom kernel for multi-scale deformable attention: DLL load failed while importing MultiScaleDeformableAttention: The specified module could not be found.\n",
      "Could not load the custom kernel for multi-scale deformable attention: DLL load failed while importing MultiScaleDeformableAttention: The specified module could not be found.\n",
      "Could not load the custom kernel for multi-scale deformable attention: DLL load failed while importing MultiScaleDeformableAttention: The specified module could not be found.\n",
      "Could not load the custom kernel for multi-scale deformable attention: DLL load failed while importing MultiScaleDeformableAttention: The specified module could not be found.\n"
     ]
    },
    {
     "name": "stdout",
     "output_type": "stream",
     "text": [
      "File ../00 Dataset/markdown\\facebook\\Earnings-Presentation-Q3-2024.md created\n",
      "File ../00 Dataset/markdown\\facebook\\Earnings-Presentation-Q3-2024.md created\n",
      "Processing file: ../00 Dataset/docs\\facebook\\Meta-09-30-2024-Exhibit-99-1_FINAL.pdf ->> ../00 Dataset/markdown\\facebook\n"
     ]
    },
    {
     "name": "stderr",
     "output_type": "stream",
     "text": [
      "Could not load the custom kernel for multi-scale deformable attention: DLL load failed while importing MultiScaleDeformableAttention: The specified module could not be found.\n",
      "Could not load the custom kernel for multi-scale deformable attention: DLL load failed while importing MultiScaleDeformableAttention: The specified module could not be found.\n",
      "Could not load the custom kernel for multi-scale deformable attention: DLL load failed while importing MultiScaleDeformableAttention: The specified module could not be found.\n",
      "Could not load the custom kernel for multi-scale deformable attention: DLL load failed while importing MultiScaleDeformableAttention: The specified module could not be found.\n",
      "Could not load the custom kernel for multi-scale deformable attention: DLL load failed while importing MultiScaleDeformableAttention: The specified module could not be found.\n",
      "Could not load the custom kernel for multi-scale deformable attention: DLL load failed while importing MultiScaleDeformableAttention: The specified module could not be found.\n"
     ]
    },
    {
     "name": "stdout",
     "output_type": "stream",
     "text": [
      "File ../00 Dataset/markdown\\facebook\\Meta-09-30-2024-Exhibit-99-1_FINAL.md created\n",
      "File ../00 Dataset/markdown\\facebook\\Meta-09-30-2024-Exhibit-99-1_FINAL.md created\n",
      "Processing file: ../00 Dataset/docs\\facebook\\META-Q3-2024-Earnings-Call-Transcript.pdf ->> ../00 Dataset/markdown\\facebook\n"
     ]
    },
    {
     "name": "stderr",
     "output_type": "stream",
     "text": [
      "Could not load the custom kernel for multi-scale deformable attention: DLL load failed while importing MultiScaleDeformableAttention: The specified module could not be found.\n",
      "Could not load the custom kernel for multi-scale deformable attention: DLL load failed while importing MultiScaleDeformableAttention: The specified module could not be found.\n",
      "Could not load the custom kernel for multi-scale deformable attention: DLL load failed while importing MultiScaleDeformableAttention: The specified module could not be found.\n",
      "Could not load the custom kernel for multi-scale deformable attention: DLL load failed while importing MultiScaleDeformableAttention: The specified module could not be found.\n",
      "Could not load the custom kernel for multi-scale deformable attention: DLL load failed while importing MultiScaleDeformableAttention: The specified module could not be found.\n",
      "Could not load the custom kernel for multi-scale deformable attention: DLL load failed while importing MultiScaleDeformableAttention: The specified module could not be found.\n"
     ]
    },
    {
     "name": "stdout",
     "output_type": "stream",
     "text": [
      "File ../00 Dataset/markdown\\facebook\\META-Q3-2024-Earnings-Call-Transcript.md created\n",
      "File ../00 Dataset/markdown\\facebook\\META-Q3-2024-Earnings-Call-Transcript.md created\n",
      "Processing file: ../00 Dataset/docs\\facebook\\META-Q3-2024-Follow-Up-Call-Transcript.pdf ->> ../00 Dataset/markdown\\facebook\n"
     ]
    },
    {
     "name": "stderr",
     "output_type": "stream",
     "text": [
      "Could not load the custom kernel for multi-scale deformable attention: DLL load failed while importing MultiScaleDeformableAttention: The specified module could not be found.\n",
      "Could not load the custom kernel for multi-scale deformable attention: DLL load failed while importing MultiScaleDeformableAttention: The specified module could not be found.\n",
      "Could not load the custom kernel for multi-scale deformable attention: DLL load failed while importing MultiScaleDeformableAttention: The specified module could not be found.\n",
      "Could not load the custom kernel for multi-scale deformable attention: DLL load failed while importing MultiScaleDeformableAttention: The specified module could not be found.\n",
      "Could not load the custom kernel for multi-scale deformable attention: DLL load failed while importing MultiScaleDeformableAttention: The specified module could not be found.\n",
      "Could not load the custom kernel for multi-scale deformable attention: DLL load failed while importing MultiScaleDeformableAttention: The specified module could not be found.\n"
     ]
    },
    {
     "name": "stdout",
     "output_type": "stream",
     "text": [
      "File ../00 Dataset/markdown\\facebook\\META-Q3-2024-Follow-Up-Call-Transcript.md created\n",
      "File ../00 Dataset/markdown\\facebook\\META-Q3-2024-Follow-Up-Call-Transcript.md created\n",
      "Processing file: ../00 Dataset/docs\\google\\goog-10-q-q3-2024.pdf ->> ../00 Dataset/markdown\\google\n"
     ]
    },
    {
     "name": "stderr",
     "output_type": "stream",
     "text": [
      "Could not load the custom kernel for multi-scale deformable attention: DLL load failed while importing MultiScaleDeformableAttention: The specified module could not be found.\n",
      "Could not load the custom kernel for multi-scale deformable attention: DLL load failed while importing MultiScaleDeformableAttention: The specified module could not be found.\n",
      "Could not load the custom kernel for multi-scale deformable attention: DLL load failed while importing MultiScaleDeformableAttention: The specified module could not be found.\n",
      "Could not load the custom kernel for multi-scale deformable attention: DLL load failed while importing MultiScaleDeformableAttention: The specified module could not be found.\n",
      "Could not load the custom kernel for multi-scale deformable attention: DLL load failed while importing MultiScaleDeformableAttention: The specified module could not be found.\n",
      "Could not load the custom kernel for multi-scale deformable attention: DLL load failed while importing MultiScaleDeformableAttention: The specified module could not be found.\n"
     ]
    },
    {
     "name": "stdout",
     "output_type": "stream",
     "text": [
      "File ../00 Dataset/markdown\\google\\goog-10-q-q3-2024.md created\n",
      "File ../00 Dataset/markdown\\google\\goog-10-q-q3-2024.md created\n"
     ]
    }
   ],
   "source": [
    "# input_dir = \"d:\\\\LLM\\\\Agentic RAG with LangChain and LangGraph\\\\00 Dataset\"\n",
    "\n",
    "\n",
    "def process_documents(input_dir, output_dir):\n",
    "    for root, dirs, files in os.walk(input_dir):\n",
    "        # print(root, dirs, files)\n",
    "\n",
    "        relative_path = os.path.relpath(root, input_dir)\n",
    "        target_dir = os.path.join(output_dir, relative_path)\n",
    "        os.makedirs(target_dir, exist_ok=True)\n",
    "\n",
    "        for file in files:\n",
    "            \n",
    "            if file.lower().endswith((\".pdf\", \".docx\", \".doc\", \".pptx\", \".ppt\", \".xlsx\", \".xls\")):\n",
    "                source = os.path.join(root, file)\n",
    "                print(f\"Processing file: {source} ->> {target_dir}\")\n",
    "\n",
    "                md_filename = get_markdown(source, target_dir)\n",
    "\n",
    "                print(f\"File {md_filename} created\")\n",
    "\n",
    "\n",
    "input_dir = \"../00 Dataset/docs\"\n",
    "output_dir = \"../00 Dataset/markdown\"\n",
    "\n",
    "process_documents(input_dir, output_dir)\n",
    "\n",
    "\n"
   ]
  },
  {
   "cell_type": "code",
   "execution_count": null,
   "metadata": {},
   "outputs": [],
   "source": []
  },
  {
   "cell_type": "code",
   "execution_count": null,
   "metadata": {},
   "outputs": [],
   "source": []
  }
 ],
 "metadata": {
  "kernelspec": {
   "display_name": "ml",
   "language": "python",
   "name": "python3"
  },
  "language_info": {
   "codemirror_mode": {
    "name": "ipython",
    "version": 3
   },
   "file_extension": ".py",
   "mimetype": "text/x-python",
   "name": "python",
   "nbconvert_exporter": "python",
   "pygments_lexer": "ipython3",
   "version": "3.12.4"
  }
 },
 "nbformat": 4,
 "nbformat_minor": 2
}

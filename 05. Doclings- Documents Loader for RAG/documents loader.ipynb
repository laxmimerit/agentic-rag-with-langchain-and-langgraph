{
 "cells": [
  {
   "cell_type": "markdown",
   "metadata": {},
   "source": [
    "### Doclings \n",
    "- 🗂️ Reads popular document formats (PDF, DOCX, PPTX, XLSX, Images, HTML, AsciiDoc & Markdown) and exports to HTML, Markdown and JSON (with embedded and referenced images)\n",
    "- 📑 Advanced PDF document understanding including page layout, reading order & table structures\n",
    "- 🧩 Unified, expressive DoclingDocument representation format\n",
    "- 🤖 Plug-and-play integrations incl. LangChain, LlamaIndex, Crew AI & Haystack for agentic AI\n",
    "- 🔍 OCR support for scanned PDFs\n",
    "- 💻 Simple and convenient CLI"
   ]
  },
  {
   "cell_type": "code",
   "execution_count": 38,
   "metadata": {},
   "outputs": [],
   "source": [
    "# https://github.com/DS4SD/docling\n",
    "# https://python.langchain.com/docs/integrations/document_loaders/docling/\n",
    "\n",
    "\n",
    "## Other libraries for document loading\n",
    "# mega-parse and markitdown\n",
    "# https://github.com/QuivrHQ/MegaParse\n",
    "# https://github.com/microsoft/markitdown\n"
   ]
  },
  {
   "cell_type": "code",
   "execution_count": null,
   "metadata": {},
   "outputs": [],
   "source": [
    "# !pip install langchain_docling\n",
    "# pip install --upgrade jupyter ipywidgets\n",
    "\n"
   ]
  },
  {
   "cell_type": "code",
   "execution_count": 1,
   "metadata": {},
   "outputs": [
    {
     "name": "stderr",
     "output_type": "stream",
     "text": [
      "c:\\Users\\laxmi\\anaconda3\\envs\\ml\\Lib\\site-packages\\torch\\utils\\cpp_extension.py:382: UserWarning: Error checking compiler version for cl: [WinError 2] The system cannot find the file specified\n",
      "  warnings.warn(f'Error checking compiler version for {compiler}: {error}')\n",
      "c:\\Users\\laxmi\\anaconda3\\envs\\ml\\Lib\\site-packages\\torch\\utils\\cpp_extension.py:1964: UserWarning: TORCH_CUDA_ARCH_LIST is not set, all archs for visible cards are included for compilation. \n",
      "If this is not desired, please set os.environ['TORCH_CUDA_ARCH_LIST'].\n",
      "  warnings.warn(\n",
      "Could not load the custom kernel for multi-scale deformable attention: Command '['where', 'cl']' returned non-zero exit status 1.\n",
      "Could not load the custom kernel for multi-scale deformable attention: DLL load failed while importing MultiScaleDeformableAttention: The specified module could not be found.\n",
      "Could not load the custom kernel for multi-scale deformable attention: DLL load failed while importing MultiScaleDeformableAttention: The specified module could not be found.\n",
      "Could not load the custom kernel for multi-scale deformable attention: DLL load failed while importing MultiScaleDeformableAttention: The specified module could not be found.\n",
      "Could not load the custom kernel for multi-scale deformable attention: DLL load failed while importing MultiScaleDeformableAttention: The specified module could not be found.\n",
      "Could not load the custom kernel for multi-scale deformable attention: DLL load failed while importing MultiScaleDeformableAttention: The specified module could not be found.\n"
     ]
    },
    {
     "data": {
      "text/plain": [
       "'output/Earnings-Presentation-Q3-2024-with-image-refs.md'"
      ]
     },
     "execution_count": 1,
     "metadata": {},
     "output_type": "execute_result"
    }
   ],
   "source": [
    "from langchain_docling import DoclingLoader\n",
    "from langchain_docling.loader import ExportType\n",
    "import os\n",
    "\n",
    "# import Path\n",
    "from pathlib import Path\n",
    "\n",
    "FILE_PATH = r\"..\\00 Dataset\\docs\\facebook\\Meta-09-30-2024-Exhibit-99-1_FINAL.pdf\"\n",
    "FILE_PATH = r\"..\\00 Dataset\\docs\\facebook\\Downloadable-BS-Q3-24.xlsx\"\n",
    "# FILE_PATH = \"https://pdfobject.com/pdf/sample.pdf\"\n",
    "\n",
    "# get markdown of the files which don't have any figure\n",
    "def get_markdown_without_figure(input_doc_path, target_dir):\n",
    "    loader = DoclingLoader(file_path=input_doc_path,\n",
    "                           export_type=ExportType.MARKDOWN)\n",
    "\n",
    "    docs = loader.load()\n",
    "\n",
    "    # doc file name\n",
    "    doc_filename = Path(input_doc_path).stem\n",
    "\n",
    "    os.makedirs(target_dir, exist_ok=True)\n",
    "    md_filename =  f\"{target_dir}/{doc_filename}-with-image-refs.md\"\n",
    "\n",
    "    # write markdown to file\n",
    "    with open(md_filename, \"w\", encoding=\"utf-8\") as f:\n",
    "        f.write(docs[0].page_content)\n",
    "        f.close()\n",
    "\n",
    "    return md_filename\n",
    "\n",
    "\n",
    "input_doc_path = r\"..\\00 Dataset\\docs\\facebook\\Earnings-Presentation-Q3-2024.pdf\"\n",
    "md_filename = get_markdown_without_figure(input_doc_path, 'output')\n",
    "\n",
    "md_filename\n",
    "# docs"
   ]
  },
  {
   "cell_type": "markdown",
   "metadata": {},
   "source": [
    "## Reading Entire Document Directory"
   ]
  },
  {
   "cell_type": "code",
   "execution_count": 2,
   "metadata": {},
   "outputs": [
    {
     "name": "stdout",
     "output_type": "stream",
     "text": [
      "Processing file: llm_paper.pdf\n",
      "Processing file: ../00 Dataset/docs\\llm_paper.pdf\n"
     ]
    },
    {
     "name": "stderr",
     "output_type": "stream",
     "text": [
      "Could not load the custom kernel for multi-scale deformable attention: DLL load failed while importing MultiScaleDeformableAttention: The specified module could not be found.\n",
      "Could not load the custom kernel for multi-scale deformable attention: DLL load failed while importing MultiScaleDeformableAttention: The specified module could not be found.\n",
      "Could not load the custom kernel for multi-scale deformable attention: DLL load failed while importing MultiScaleDeformableAttention: The specified module could not be found.\n",
      "Could not load the custom kernel for multi-scale deformable attention: DLL load failed while importing MultiScaleDeformableAttention: The specified module could not be found.\n",
      "Could not load the custom kernel for multi-scale deformable attention: DLL load failed while importing MultiScaleDeformableAttention: The specified module could not be found.\n",
      "Could not load the custom kernel for multi-scale deformable attention: DLL load failed while importing MultiScaleDeformableAttention: The specified module could not be found.\n"
     ]
    },
    {
     "name": "stdout",
     "output_type": "stream",
     "text": [
      "Markdown saved to: ../00 Dataset/markdown\\./llm_paper-with-image-refs.md\n",
      "Processing file: amazon-10-q-q3-2024.pdf\n",
      "Processing file: ../00 Dataset/docs\\amazon\\amazon-10-q-q3-2024.pdf\n"
     ]
    },
    {
     "name": "stderr",
     "output_type": "stream",
     "text": [
      "Could not load the custom kernel for multi-scale deformable attention: DLL load failed while importing MultiScaleDeformableAttention: The specified module could not be found.\n",
      "Could not load the custom kernel for multi-scale deformable attention: DLL load failed while importing MultiScaleDeformableAttention: The specified module could not be found.\n",
      "Could not load the custom kernel for multi-scale deformable attention: DLL load failed while importing MultiScaleDeformableAttention: The specified module could not be found.\n",
      "Could not load the custom kernel for multi-scale deformable attention: DLL load failed while importing MultiScaleDeformableAttention: The specified module could not be found.\n",
      "Could not load the custom kernel for multi-scale deformable attention: DLL load failed while importing MultiScaleDeformableAttention: The specified module could not be found.\n",
      "Could not load the custom kernel for multi-scale deformable attention: DLL load failed while importing MultiScaleDeformableAttention: The specified module could not be found.\n"
     ]
    },
    {
     "name": "stdout",
     "output_type": "stream",
     "text": [
      "Markdown saved to: ../00 Dataset/markdown\\amazon/amazon-10-q-q3-2024-with-image-refs.md\n",
      "Processing file: Downloadable-BS-Q3-24.xlsx\n",
      "Processing file: ../00 Dataset/docs\\facebook\\Downloadable-BS-Q3-24.xlsx\n",
      "Markdown saved to: ../00 Dataset/markdown\\facebook/Downloadable-BS-Q3-24-with-image-refs.md\n",
      "Processing file: Downloadable-PL-Q3-24.xlsx\n",
      "Processing file: ../00 Dataset/docs\\facebook\\Downloadable-PL-Q3-24.xlsx\n",
      "Markdown saved to: ../00 Dataset/markdown\\facebook/Downloadable-PL-Q3-24-with-image-refs.md\n",
      "Processing file: Earnings-Presentation-Q3-2024.pdf\n",
      "Processing file: ../00 Dataset/docs\\facebook\\Earnings-Presentation-Q3-2024.pdf\n"
     ]
    },
    {
     "name": "stderr",
     "output_type": "stream",
     "text": [
      "Could not load the custom kernel for multi-scale deformable attention: DLL load failed while importing MultiScaleDeformableAttention: The specified module could not be found.\n",
      "Could not load the custom kernel for multi-scale deformable attention: DLL load failed while importing MultiScaleDeformableAttention: The specified module could not be found.\n",
      "Could not load the custom kernel for multi-scale deformable attention: DLL load failed while importing MultiScaleDeformableAttention: The specified module could not be found.\n",
      "Could not load the custom kernel for multi-scale deformable attention: DLL load failed while importing MultiScaleDeformableAttention: The specified module could not be found.\n",
      "Could not load the custom kernel for multi-scale deformable attention: DLL load failed while importing MultiScaleDeformableAttention: The specified module could not be found.\n",
      "Could not load the custom kernel for multi-scale deformable attention: DLL load failed while importing MultiScaleDeformableAttention: The specified module could not be found.\n"
     ]
    },
    {
     "name": "stdout",
     "output_type": "stream",
     "text": [
      "Markdown saved to: ../00 Dataset/markdown\\facebook/Earnings-Presentation-Q3-2024-with-image-refs.md\n",
      "Processing file: Meta-09-30-2024-Exhibit-99-1_FINAL.pdf\n",
      "Processing file: ../00 Dataset/docs\\facebook\\Meta-09-30-2024-Exhibit-99-1_FINAL.pdf\n"
     ]
    },
    {
     "name": "stderr",
     "output_type": "stream",
     "text": [
      "Could not load the custom kernel for multi-scale deformable attention: DLL load failed while importing MultiScaleDeformableAttention: The specified module could not be found.\n",
      "Could not load the custom kernel for multi-scale deformable attention: DLL load failed while importing MultiScaleDeformableAttention: The specified module could not be found.\n",
      "Could not load the custom kernel for multi-scale deformable attention: DLL load failed while importing MultiScaleDeformableAttention: The specified module could not be found.\n",
      "Could not load the custom kernel for multi-scale deformable attention: DLL load failed while importing MultiScaleDeformableAttention: The specified module could not be found.\n",
      "Could not load the custom kernel for multi-scale deformable attention: DLL load failed while importing MultiScaleDeformableAttention: The specified module could not be found.\n",
      "Could not load the custom kernel for multi-scale deformable attention: DLL load failed while importing MultiScaleDeformableAttention: The specified module could not be found.\n"
     ]
    },
    {
     "name": "stdout",
     "output_type": "stream",
     "text": [
      "Markdown saved to: ../00 Dataset/markdown\\facebook/Meta-09-30-2024-Exhibit-99-1_FINAL-with-image-refs.md\n",
      "Processing file: META-Q3-2024-Earnings-Call-Transcript.pdf\n",
      "Processing file: ../00 Dataset/docs\\facebook\\META-Q3-2024-Earnings-Call-Transcript.pdf\n"
     ]
    },
    {
     "name": "stderr",
     "output_type": "stream",
     "text": [
      "Could not load the custom kernel for multi-scale deformable attention: DLL load failed while importing MultiScaleDeformableAttention: The specified module could not be found.\n",
      "Could not load the custom kernel for multi-scale deformable attention: DLL load failed while importing MultiScaleDeformableAttention: The specified module could not be found.\n",
      "Could not load the custom kernel for multi-scale deformable attention: DLL load failed while importing MultiScaleDeformableAttention: The specified module could not be found.\n",
      "Could not load the custom kernel for multi-scale deformable attention: DLL load failed while importing MultiScaleDeformableAttention: The specified module could not be found.\n",
      "Could not load the custom kernel for multi-scale deformable attention: DLL load failed while importing MultiScaleDeformableAttention: The specified module could not be found.\n",
      "Could not load the custom kernel for multi-scale deformable attention: DLL load failed while importing MultiScaleDeformableAttention: The specified module could not be found.\n"
     ]
    },
    {
     "name": "stdout",
     "output_type": "stream",
     "text": [
      "Markdown saved to: ../00 Dataset/markdown\\facebook/META-Q3-2024-Earnings-Call-Transcript-with-image-refs.md\n",
      "Processing file: META-Q3-2024-Follow-Up-Call-Transcript.pdf\n",
      "Processing file: ../00 Dataset/docs\\facebook\\META-Q3-2024-Follow-Up-Call-Transcript.pdf\n"
     ]
    },
    {
     "name": "stderr",
     "output_type": "stream",
     "text": [
      "Could not load the custom kernel for multi-scale deformable attention: DLL load failed while importing MultiScaleDeformableAttention: The specified module could not be found.\n",
      "Could not load the custom kernel for multi-scale deformable attention: DLL load failed while importing MultiScaleDeformableAttention: The specified module could not be found.\n",
      "Could not load the custom kernel for multi-scale deformable attention: DLL load failed while importing MultiScaleDeformableAttention: The specified module could not be found.\n",
      "Could not load the custom kernel for multi-scale deformable attention: DLL load failed while importing MultiScaleDeformableAttention: The specified module could not be found.\n",
      "Could not load the custom kernel for multi-scale deformable attention: DLL load failed while importing MultiScaleDeformableAttention: The specified module could not be found.\n",
      "Could not load the custom kernel for multi-scale deformable attention: DLL load failed while importing MultiScaleDeformableAttention: The specified module could not be found.\n"
     ]
    },
    {
     "name": "stdout",
     "output_type": "stream",
     "text": [
      "Markdown saved to: ../00 Dataset/markdown\\facebook/META-Q3-2024-Follow-Up-Call-Transcript-with-image-refs.md\n",
      "Processing file: goog-10-q-q3-2024.pdf\n",
      "Processing file: ../00 Dataset/docs\\google\\goog-10-q-q3-2024.pdf\n"
     ]
    },
    {
     "name": "stderr",
     "output_type": "stream",
     "text": [
      "Could not load the custom kernel for multi-scale deformable attention: DLL load failed while importing MultiScaleDeformableAttention: The specified module could not be found.\n",
      "Could not load the custom kernel for multi-scale deformable attention: DLL load failed while importing MultiScaleDeformableAttention: The specified module could not be found.\n",
      "Could not load the custom kernel for multi-scale deformable attention: DLL load failed while importing MultiScaleDeformableAttention: The specified module could not be found.\n",
      "Could not load the custom kernel for multi-scale deformable attention: DLL load failed while importing MultiScaleDeformableAttention: The specified module could not be found.\n",
      "Could not load the custom kernel for multi-scale deformable attention: DLL load failed while importing MultiScaleDeformableAttention: The specified module could not be found.\n",
      "Could not load the custom kernel for multi-scale deformable attention: DLL load failed while importing MultiScaleDeformableAttention: The specified module could not be found.\n"
     ]
    },
    {
     "name": "stdout",
     "output_type": "stream",
     "text": [
      "Markdown saved to: ../00 Dataset/markdown\\google/goog-10-q-q3-2024-with-image-refs.md\n"
     ]
    }
   ],
   "source": [
    "import os\n",
    "\n",
    "def process_documents(input_dir, output_dir):\n",
    "\n",
    "    for root, _, files in os.walk(input_dir):\n",
    "        # Calculate the relative path to preserve subdirectory structure\n",
    "        relative_path = os.path.relpath(root, input_dir)\n",
    "        target_dir = os.path.join(output_dir, relative_path)\n",
    "        os.makedirs(target_dir, exist_ok=True)  # Ensure target directory exists\n",
    "\n",
    "        for file in files:\n",
    "            print(f\"Processing file: {file}\")\n",
    "            if file.lower().endswith(('.pdf', '.docx', '.pptx', '.xlsx')):\n",
    "                input_pdf_path = os.path.join(root, file)\n",
    "                print(f\"Processing file: {input_pdf_path}\")\n",
    "                \n",
    "                # Convert PDF to Markdown without figures\n",
    "                md_filename = get_markdown_without_figure(input_pdf_path, target_dir)\n",
    "                \n",
    "                # Print the location of the saved Markdown file\n",
    "                print(f\"Markdown saved to: {md_filename}\")\n",
    "\n",
    "# Example Usage\n",
    "input_dir = r\"../00 Dataset/docs\"\n",
    "output_dir = r\"../00 Dataset/markdown\"\n",
    "process_documents(input_dir, output_dir)\n"
   ]
  },
  {
   "cell_type": "code",
   "execution_count": null,
   "metadata": {},
   "outputs": [],
   "source": []
  },
  {
   "cell_type": "code",
   "execution_count": null,
   "metadata": {},
   "outputs": [],
   "source": []
  },
  {
   "cell_type": "code",
   "execution_count": null,
   "metadata": {},
   "outputs": [],
   "source": []
  },
  {
   "cell_type": "code",
   "execution_count": null,
   "metadata": {},
   "outputs": [],
   "source": []
  }
 ],
 "metadata": {
  "kernelspec": {
   "display_name": "ml",
   "language": "python",
   "name": "python3"
  },
  "language_info": {
   "codemirror_mode": {
    "name": "ipython",
    "version": 3
   },
   "file_extension": ".py",
   "mimetype": "text/x-python",
   "name": "python",
   "nbconvert_exporter": "python",
   "pygments_lexer": "ipython3",
   "version": "3.12.4"
  }
 },
 "nbformat": 4,
 "nbformat_minor": 2
}
